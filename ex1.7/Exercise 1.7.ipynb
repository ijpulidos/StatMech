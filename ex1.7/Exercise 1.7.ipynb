{
 "cells": [
  {
   "cell_type": "markdown",
   "metadata": {},
   "source": [
    "# 1.7 Small World Network\n",
    "\n",
    "This notebook shows the solution to Exercise 1.7 from Sethna's book on Statistical mechanics, the idea is creating software that models small world networks and exploring its properties.\n",
    "\n",
    "## a) Define and show a network object on the computer\n",
    "\n",
    "The SmallNetwork.py code is completely my \"invention\", while the NetGraphics code (check the github repository at https://github.com/ijpulidos/StatMech ) is from Sethna's website, I just changed some things to work with recent versions of python3, Pillow and my SmallNetwork code.\n",
    "\n",
    "The SmallNetwork.py code defines and has the basic functions for the SmallNetwork (graph). The NetGraphics.py code draws the network."
   ]
  },
  {
   "cell_type": "code",
   "execution_count": 1,
   "metadata": {
    "collapsed": true
   },
   "outputs": [],
   "source": [
    "import SmallNetwork  # Local dir lib\n",
    "import NetGraphics  # Local dir lib \n",
    "import numpy as np"
   ]
  },
  {
   "cell_type": "code",
   "execution_count": 2,
   "metadata": {},
   "outputs": [
    {
     "data": {
      "image/png": "[encoded data removed]",
      "text/plain": [
       "<PIL.Image.Image image mode=RGB size=480x480 at 0x7F01DE120DD8>"
      ]
     },
     "execution_count": 2,
     "metadata": {},
     "output_type": "execute_result"
    }
   ],
   "source": [
    "network = SmallNetwork.SmallNetwork(20, 4, 0.2)\n",
    "NetGraphics.GenerateCircleGraphImage(network, \"/tmp/prueba.png\")\n",
    "# NetGraphics.Display(\"/tmp/prueba.png\")"
   ]
  },
  {
   "cell_type": "markdown",
   "metadata": {
    "collapsed": true
   },
   "source": [
    "## b) Path length distribution\n",
    "\n",
    "The idea is to use a *breadth-first* algorithm to compute and save the distances between nodes, just as the book suggests. Now, I did have trouble understanding what the algorithm really does... this should help: https://en.wikipedia.org/wiki/Breadth-first_search\n",
    "\n",
    "The key aspect is storing the visited nodes and checking if you have already visited the node, then if you just check all the neighbors of all the nodes you get the distance to every node in the network from a given source node, it helps that the network has all the nodes connected one way or the other (ie. there's always a path from one node to any other node). This little animation should help visualizing the algorithm:\n",
    "<img src=\"https://upload.wikimedia.org/wikipedia/commons/4/46/Animated_BFS.gif\">"
   ]
  },
  {
   "cell_type": "code",
   "execution_count": 3,
   "metadata": {},
   "outputs": [],
   "source": [
    "def FindPathLengthsFromNode(graph, node):\n",
    "    lengths = {} # Dictionary that will store lenghts from specified node\n",
    "    l = 0  # Initialize length as zero\n",
    "    lengths[node] = 0  # Put the length in the correct index (which represents a node) \n",
    "                         # lengths[node]-> shortest length to node from origin/source\n",
    "    currentShell = [node]\n",
    "    while(True):\n",
    "        #print(lengths)\n",
    "        if len(lengths) == len(graph.nodes):\n",
    "            #print(\"RETORNA:\")\n",
    "            return lengths\n",
    "        else:\n",
    "            for node_ in currentShell:\n",
    "                #print(\"Entro currentShell\")\n",
    "                nextShell = []  # Restarting next shell in each iteration\n",
    "                for neighbor in graph.get_neighbors(node_):\n",
    "                    #print(\"Entro neighbor\")\n",
    "                    if neighbor not in lengths:  # Verify that neighbor node has not been visited\n",
    "                        # Add neighbors of node_ to nextShell\n",
    "                        nextShell.append(neighbor)\n",
    "                        # Set distance to node to l+1\n",
    "                        lengths[neighbor] = l+1\n",
    "            l+=1\n",
    "            currentShell = nextShell  # Update shell"
   ]
  },
  {
   "cell_type": "code",
   "execution_count": 4,
   "metadata": {
    "scrolled": true
   },
   "outputs": [
    {
     "ename": "KeyboardInterrupt",
     "evalue": "",
     "output_type": "error",
     "traceback": [
      "\u001b[0;31m---------------------------------------------------------------------------\u001b[0m",
      "\u001b[0;31mKeyboardInterrupt\u001b[0m                         Traceback (most recent call last)",
      "\u001b[0;32m<ipython-input-4-6f673066d99c>\u001b[0m in \u001b[0;36m<module>\u001b[0;34m()\u001b[0m\n\u001b[0;32m----> 1\u001b[0;31m \u001b[0mFindPathLengthsFromNode\u001b[0m\u001b[0;34m(\u001b[0m\u001b[0mnetwork\u001b[0m\u001b[0;34m,\u001b[0m \u001b[0;36m4\u001b[0m\u001b[0;34m)\u001b[0m\u001b[0;34m\u001b[0m\u001b[0m\n\u001b[0m",
      "\u001b[0;32m<ipython-input-3-0a611f1a4b38>\u001b[0m in \u001b[0;36mFindPathLengthsFromNode\u001b[0;34m(graph, node)\u001b[0m\n\u001b[1;32m      7\u001b[0m     \u001b[0;32mwhile\u001b[0m\u001b[0;34m(\u001b[0m\u001b[0;32mTrue\u001b[0m\u001b[0;34m)\u001b[0m\u001b[0;34m:\u001b[0m\u001b[0;34m\u001b[0m\u001b[0m\n\u001b[1;32m      8\u001b[0m         \u001b[0;31m#print(lengths)\u001b[0m\u001b[0;34m\u001b[0m\u001b[0;34m\u001b[0m\u001b[0m\n\u001b[0;32m----> 9\u001b[0;31m         \u001b[0;32mif\u001b[0m \u001b[0mlen\u001b[0m\u001b[0;34m(\u001b[0m\u001b[0mlengths\u001b[0m\u001b[0;34m)\u001b[0m \u001b[0;34m==\u001b[0m \u001b[0mlen\u001b[0m\u001b[0;34m(\u001b[0m\u001b[0mgraph\u001b[0m\u001b[0;34m.\u001b[0m\u001b[0mnodes\u001b[0m\u001b[0;34m)\u001b[0m\u001b[0;34m:\u001b[0m\u001b[0;34m\u001b[0m\u001b[0m\n\u001b[0m\u001b[1;32m     10\u001b[0m             \u001b[0;31m#print(\"RETORNA:\")\u001b[0m\u001b[0;34m\u001b[0m\u001b[0;34m\u001b[0m\u001b[0m\n\u001b[1;32m     11\u001b[0m             \u001b[0;32mreturn\u001b[0m \u001b[0mlengths\u001b[0m\u001b[0;34m\u001b[0m\u001b[0m\n",
      "\u001b[0;31mKeyboardInterrupt\u001b[0m: "
     ]
    }
   ],
   "source": [
    "FindPathLengthsFromNode(network, 4)"
   ]
  },
  {
   "cell_type": "code",
   "execution_count": null,
   "metadata": {},
   "outputs": [],
   "source": [
    "SmallNetwork.FindPathLengthsFromNode(network, 4)"
   ]
  },
  {
   "cell_type": "code",
   "execution_count": null,
   "metadata": {},
   "outputs": [],
   "source": [
    "network.get_neighbors(6)"
   ]
  },
  {
   "cell_type": "code",
   "execution_count": null,
   "metadata": {},
   "outputs": [],
   "source": [
    "network.add_node(49)"
   ]
  },
  {
   "cell_type": "code",
   "execution_count": null,
   "metadata": {},
   "outputs": [],
   "source": [
    "network.get_neighbors(49)"
   ]
  },
  {
   "cell_type": "code",
   "execution_count": null,
   "metadata": {
    "collapsed": true
   },
   "outputs": [],
   "source": []
  }
 ],
 "metadata": {
  "kernelspec": {
   "display_name": "Python 3",
   "language": "python",
   "name": "python3"
  },
  "language_info": {
   "codemirror_mode": {
    "name": "ipython",
    "version": 3
   },
   "file_extension": ".py",
   "mimetype": "text/x-python",
   "name": "python",
   "nbconvert_exporter": "python",
   "pygments_lexer": "ipython3",
   "version": "3.6.2"
  }
 },
 "nbformat": 4,
 "nbformat_minor": 2
}
